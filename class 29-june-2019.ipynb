{
 "cells": [
  {
   "cell_type": "code",
   "execution_count": 1,
   "metadata": {},
   "outputs": [
    {
     "ename": "SyntaxError",
     "evalue": "unexpected EOF while parsing (<ipython-input-1-a1a6d4c9f8b2>, line 3)",
     "output_type": "error",
     "traceback": [
      "\u001b[1;36m  File \u001b[1;32m\"<ipython-input-1-a1a6d4c9f8b2>\"\u001b[1;36m, line \u001b[1;32m3\u001b[0m\n\u001b[1;33m    \u001b[0m\n\u001b[1;37m    ^\u001b[0m\n\u001b[1;31mSyntaxError\u001b[0m\u001b[1;31m:\u001b[0m unexpected EOF while parsing\n"
     ]
    }
   ],
   "source": [
    "class Person():\n",
    "    def __init__(self):\n",
    "        "
   ]
  },
  {
   "cell_type": "code",
   "execution_count": 3,
   "metadata": {},
   "outputs": [],
   "source": [
    "def person(name,age):\n",
    "    return (\"Name is \", name, \" Age is \", age)\n"
   ]
  },
  {
   "cell_type": "code",
   "execution_count": 4,
   "metadata": {},
   "outputs": [
    {
     "data": {
      "text/plain": [
       "('Name is ', 'asad', ' Age is ', 21)"
      ]
     },
     "execution_count": 4,
     "metadata": {},
     "output_type": "execute_result"
    }
   ],
   "source": [
    "person('asad',21)"
   ]
  },
  {
   "cell_type": "code",
   "execution_count": 8,
   "metadata": {},
   "outputs": [
    {
     "name": "stdout",
     "output_type": "stream",
     "text": [
      "asad\n",
      "Umair\n"
     ]
    }
   ],
   "source": [
    "class Person():\n",
    "    def __init__(self,name,age):\n",
    "        self.name = name\n",
    "        self.age = age\n",
    "    def setname(self,name):\n",
    "        self.name = name\n",
    "        print(\"your name was changed to \",name)\n",
    "\n",
    "        \n",
    "std1 = Person('asad',21)\n",
    "print(std1.name)\n",
    "std1.name = \"Umair\"\n",
    "print(std1.name)"
   ]
  },
  {
   "cell_type": "code",
   "execution_count": 10,
   "metadata": {},
   "outputs": [
    {
     "data": {
      "text/plain": [
       "'Umair'"
      ]
     },
     "execution_count": 10,
     "metadata": {},
     "output_type": "execute_result"
    }
   ],
   "source": [
    "std1.name"
   ]
  },
  {
   "cell_type": "code",
   "execution_count": 11,
   "metadata": {},
   "outputs": [
    {
     "name": "stdout",
     "output_type": "stream",
     "text": [
      "your name was changed to  Zahid\n"
     ]
    }
   ],
   "source": [
    "std1.setname(\"Zahid\")"
   ]
  },
  {
   "cell_type": "code",
   "execution_count": 12,
   "metadata": {},
   "outputs": [
    {
     "data": {
      "text/plain": [
       "'Zahid'"
      ]
     },
     "execution_count": 12,
     "metadata": {},
     "output_type": "execute_result"
    }
   ],
   "source": [
    "std1.name"
   ]
  },
  {
   "cell_type": "code",
   "execution_count": 16,
   "metadata": {},
   "outputs": [],
   "source": [
    "class pizza():\n",
    "    def __init__(self,size,shape,flavour,topping):\n",
    "        self.size = size\n",
    "        self.shape = shape\n",
    "        self.flavour = flavour\n",
    "        self.topping = topping"
   ]
  },
  {
   "cell_type": "code",
   "execution_count": 17,
   "metadata": {},
   "outputs": [],
   "source": [
    "pizza11 = pizza('12inches','round','Fajita','extra cheese')"
   ]
  },
  {
   "cell_type": "code",
   "execution_count": 18,
   "metadata": {},
   "outputs": [
    {
     "name": "stdout",
     "output_type": "stream",
     "text": [
      "12inches round Fajita extra cheese\n"
     ]
    }
   ],
   "source": [
    "print(pizza11.size,pizza11.shape,pizza11.flavour,pizza11.topping)"
   ]
  },
  {
   "cell_type": "code",
   "execution_count": 19,
   "metadata": {},
   "outputs": [
    {
     "name": "stdout",
     "output_type": "stream",
     "text": [
      "Ali is studying now\n"
     ]
    }
   ],
   "source": [
    "class Student:\n",
    "    def __init__(self,name,stu_id):\n",
    "        self.name=name\n",
    "        self.stu_id=stu_id\n",
    "    def study(self):\n",
    "        print(f\"{self.name} is studying now\")\n",
    "s1=Student(\"Ali\",\"A123\")\n",
    "s1.study()"
   ]
  },
  {
   "cell_type": "code",
   "execution_count": 23,
   "metadata": {},
   "outputs": [],
   "source": [
    "class AIStudent(Student):\n",
    "    def __init__(self,name,stu_id,coursera_id):\n",
    "        super().__init__(name,stu_id)\n",
    "        self.coursera_id=coursera_id\n",
    "        \n",
    "    def study(self):\n",
    "        print(\"Python, OOP, Tensorflow\")"
   ]
  },
  {
   "cell_type": "code",
   "execution_count": 35,
   "metadata": {},
   "outputs": [],
   "source": [
    "class BlockChain(Student):\n",
    "     def __init__(self,name,stu_id,Crypto_id):\n",
    "        super().__init__(name,stu_id)\n",
    "        self.Crypto_id=Crypto_id\n",
    "        \n",
    "     def study(self):\n",
    "        print(\"Cryptography, smart contracts, solidity\")\n",
    "    "
   ]
  },
  {
   "cell_type": "code",
   "execution_count": 36,
   "metadata": {},
   "outputs": [],
   "source": [
    "class CloudStudent(Student):\n",
    "     def __init__(self,name,stu_id,GoogleId):\n",
    "        super().__init__(name,stu_id)\n",
    "        self.GoogleId=GoogleId\n",
    "        \n",
    "     def study(self):\n",
    "        print(\"linux, docker , kubernetes \")"
   ]
  },
  {
   "cell_type": "code",
   "execution_count": 39,
   "metadata": {},
   "outputs": [
    {
     "name": "stdout",
     "output_type": "stream",
     "text": [
      "Python, OOP, Tensorflow\n",
      "Noman\n"
     ]
    }
   ],
   "source": [
    "s=AIStudent(\"Noman\",\"101\",\"C1900\")\n",
    "s.study()\n",
    "print(s.name)"
   ]
  },
  {
   "cell_type": "code",
   "execution_count": 38,
   "metadata": {},
   "outputs": [
    {
     "name": "stdout",
     "output_type": "stream",
     "text": [
      "Cryptography, smart contracts, solidity\n"
     ]
    }
   ],
   "source": [
    "s=BlockChain(\"Ali\",\"109\",145)\n",
    "s.study()"
   ]
  },
  {
   "cell_type": "code",
   "execution_count": 46,
   "metadata": {},
   "outputs": [
    {
     "name": "stdout",
     "output_type": "stream",
     "text": [
      "drawing shape\n"
     ]
    }
   ],
   "source": [
    "class Shape():\n",
    "    def __init__(self,num_sides,Color):\n",
    "        self.num_sides = num_sides\n",
    "        self.Color = Color\n",
    "    def draw(self):\n",
    "        print(\"drawing\",\"shape\")\n",
    "s1= Shape(\"10 \",\"blue\")\n",
    "s1.draw()"
   ]
  },
  {
   "cell_type": "code",
   "execution_count": 42,
   "metadata": {},
   "outputs": [],
   "source": [
    "class Rectangle(Shape):\n",
    "    def __init__(self,num_sides,Color):\n",
    "        super().__init__(num_sides,Color)\n",
    "    def draw(self):\n",
    "        print(\"drawing rectangle\")\n",
    "    \n"
   ]
  },
  {
   "cell_type": "code",
   "execution_count": 45,
   "metadata": {},
   "outputs": [
    {
     "name": "stdout",
     "output_type": "stream",
     "text": [
      "drawing rectangle\n"
     ]
    }
   ],
   "source": [
    "r1 = Rectangle(\"12\",\"yellow\")\n",
    "r1.draw()"
   ]
  },
  {
   "cell_type": "code",
   "execution_count": 59,
   "metadata": {},
   "outputs": [],
   "source": [
    "with open(\"abc.txt\",\"w\") as f :\n",
    "    f.write(\"Hello from PIAIC\")\n",
    "\n"
   ]
  },
  {
   "cell_type": "code",
   "execution_count": 51,
   "metadata": {},
   "outputs": [
    {
     "name": "stdout",
     "output_type": "stream",
     "text": [
      "Hello from PIAIC\n"
     ]
    }
   ],
   "source": [
    "with open(\"abc.txt\",\"r\") as f:\n",
    "    print(f.read())"
   ]
  },
  {
   "cell_type": "code",
   "execution_count": 60,
   "metadata": {},
   "outputs": [],
   "source": [
    "with open(\"abc.txt\",\"a\") as f:\n",
    "    f.write(\"\\nThis is second line \")"
   ]
  },
  {
   "cell_type": "code",
   "execution_count": 57,
   "metadata": {},
   "outputs": [],
   "source": [
    "# import Calculator as c\n",
    "from Calculator import add"
   ]
  },
  {
   "cell_type": "code",
   "execution_count": 58,
   "metadata": {},
   "outputs": [
    {
     "data": {
      "text/plain": [
       "5"
      ]
     },
     "execution_count": 58,
     "metadata": {},
     "output_type": "execute_result"
    }
   ],
   "source": [
    "add(2,3)"
   ]
  },
  {
   "cell_type": "code",
   "execution_count": null,
   "metadata": {},
   "outputs": [],
   "source": []
  },
  {
   "cell_type": "code",
   "execution_count": null,
   "metadata": {},
   "outputs": [],
   "source": []
  },
  {
   "cell_type": "code",
   "execution_count": null,
   "metadata": {},
   "outputs": [],
   "source": []
  },
  {
   "cell_type": "code",
   "execution_count": null,
   "metadata": {},
   "outputs": [],
   "source": []
  },
  {
   "cell_type": "code",
   "execution_count": null,
   "metadata": {},
   "outputs": [],
   "source": []
  }
 ],
 "metadata": {
  "kernelspec": {
   "display_name": "Python 3",
   "language": "python",
   "name": "python3"
  },
  "language_info": {
   "codemirror_mode": {
    "name": "ipython",
    "version": 3
   },
   "file_extension": ".py",
   "mimetype": "text/x-python",
   "name": "python",
   "nbconvert_exporter": "python",
   "pygments_lexer": "ipython3",
   "version": "3.7.3"
  }
 },
 "nbformat": 4,
 "nbformat_minor": 2
}

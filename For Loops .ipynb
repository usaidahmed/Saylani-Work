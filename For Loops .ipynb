{
 "cells": [
  {
   "cell_type": "code",
   "execution_count": 9,
   "metadata": {},
   "outputs": [
    {
     "name": "stdout",
     "output_type": "stream",
     "text": [
      "kindly enter any no to print its table6\n",
      "6 * 10 = 60\n",
      "6 * 9 = 54\n",
      "6 * 8 = 48\n",
      "6 * 7 = 42\n",
      "6 * 6 = 36\n",
      "6 * 5 = 30\n",
      "6 * 4 = 24\n",
      "6 * 3 = 18\n",
      "6 * 2 = 12\n",
      "6 * 1 = 6\n"
     ]
    }
   ],
   "source": [
    "a = int(input(\"kindly enter any no to print its table\"))\n",
    "for i in range(10,0,-1):\n",
    "    print(str(a) +\" * \" +str(i)+ \" = \" +str(a*i) )"
   ]
  },
  {
   "cell_type": "code",
   "execution_count": 5,
   "metadata": {},
   "outputs": [
    {
     "data": {
      "text/plain": [
       "[1, 2, 3, 4, 5, 6, 7, 8, 9, 10]"
      ]
     },
     "execution_count": 5,
     "metadata": {},
     "output_type": "execute_result"
    }
   ],
   "source": [
    "list(range(1,11))"
   ]
  },
  {
   "cell_type": "code",
   "execution_count": 11,
   "metadata": {},
   "outputs": [
    {
     "name": "stdout",
     "output_type": "stream",
     "text": [
      "U\n",
      "m\n",
      "a\n",
      "i\n",
      "r\n"
     ]
    }
   ],
   "source": [
    "name = 'Umair'\n",
    "for a in name:\n",
    "    print(a)"
   ]
  },
  {
   "cell_type": "code",
   "execution_count": null,
   "metadata": {},
   "outputs": [],
   "source": []
  }
 ],
 "metadata": {
  "kernelspec": {
   "display_name": "Python 3",
   "language": "python",
   "name": "python3"
  },
  "language_info": {
   "codemirror_mode": {
    "name": "ipython",
    "version": 3
   },
   "file_extension": ".py",
   "mimetype": "text/x-python",
   "name": "python",
   "nbconvert_exporter": "python",
   "pygments_lexer": "ipython3",
   "version": "3.7.3"
  }
 },
 "nbformat": 4,
 "nbformat_minor": 2
}
